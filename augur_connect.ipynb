{
 "cells": [
  {
   "cell_type": "code",
   "execution_count": null,
   "id": "3c21e0fa-2894-48a7-9ad3-c142675d7043",
   "metadata": {},
   "outputs": [],
   "source": [
    "import os\n",
    "from dotenv import load_dotenv, find_dotenv\n",
    "load_dotenv(dotenv_path = find_dotenv('/home/jlh5498/transition_auger/secrets.env'), override=True)"
   ]
  },
  {
   "cell_type": "code",
   "execution_count": null,
   "id": "033c5578-951e-45f9-b308-77f49362dbf9",
   "metadata": {},
   "outputs": [],
   "source": [
    "import psycopg\n",
    "\n",
    "# Connect to an existing database\n",
    "with psycopg.connect(f\"dbname=berkeley user=james host=chaoss.tv port=5432 password='{os.getenv('AUGUR_PASSWORD')}'\") as conn:\n",
    "\n",
    "    # Open a cursor to perform database operations\n",
    "    with conn.cursor() as cursor:\n",
    "\n",
    "        # Execute a command: this creates a new table\n",
    "        cursor.execute(\"\"\"\n",
    "            SELECT * from information_schema.columns \n",
    "            ORDER BY table_schema, table_name\n",
    "            \"\"\")\n",
    "        for row in cursor:\n",
    "            print(row)"
   ]
  }
 ],
 "metadata": {
  "kernelspec": {
   "display_name": "Python 3 (ipykernel)",
   "language": "python",
   "name": "python3"
  },
  "language_info": {
   "codemirror_mode": {
    "name": "ipython",
    "version": 3
   },
   "file_extension": ".py",
   "mimetype": "text/x-python",
   "name": "python",
   "nbconvert_exporter": "python",
   "pygments_lexer": "ipython3",
   "version": "3.10.9"
  }
 },
 "nbformat": 4,
 "nbformat_minor": 5
}
