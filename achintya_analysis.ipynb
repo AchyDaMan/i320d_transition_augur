{
 "cells": [
  {
   "cell_type": "code",
   "execution_count": 1,
   "id": "3a1d97d7",
   "metadata": {},
   "outputs": [],
   "source": [
    "import pandas as pd\n",
    "import numpy as np\n",
    "import matplotlib.pyplot as plt\n",
    "import seaborn as sns"
   ]
  },
  {
   "cell_type": "code",
   "execution_count": 24,
   "id": "6a415ec0",
   "metadata": {},
   "outputs": [
    {
     "name": "stdout",
     "output_type": "stream",
     "text": [
      "<class 'pandas.core.frame.DataFrame'>\n",
      "RangeIndex: 4453789 entries, 0 to 4453788\n",
      "Data columns (total 5 columns):\n",
      " #   Column            Dtype \n",
      "---  ------            ----- \n",
      " 0   repo_id           int64 \n",
      " 1   repo_name         object\n",
      " 2   event_type        object\n",
      " 3   event_datetime    object\n",
      " 4   contributor_name  object\n",
      "dtypes: int64(1), object(4)\n",
      "memory usage: 169.9+ MB\n",
      "commit_df: None\n",
      "\n",
      "<class 'pandas.core.frame.DataFrame'>\n",
      "RangeIndex: 68974 entries, 0 to 68973\n",
      "Data columns (total 5 columns):\n",
      " #   Column            Non-Null Count  Dtype \n",
      "---  ------            --------------  ----- \n",
      " 0   repo_id           68974 non-null  int64 \n",
      " 1   repo_name         68974 non-null  object\n",
      " 2   event_type        68974 non-null  object\n",
      " 3   event_datetime    68974 non-null  object\n",
      " 4   contributor_name  68974 non-null  object\n",
      "dtypes: int64(1), object(4)\n",
      "memory usage: 2.6+ MB\n",
      "issues_df: None\n",
      "\n",
      "<class 'pandas.core.frame.DataFrame'>\n",
      "RangeIndex: 1000 entries, 0 to 999\n",
      "Data columns (total 6 columns):\n",
      " #   Column            Non-Null Count  Dtype \n",
      "---  ------            --------------  ----- \n",
      " 0   repo_id           1000 non-null   int64 \n",
      " 1   repo_name         1000 non-null   object\n",
      " 2   event_type        1000 non-null   object\n",
      " 3   event_datetime    1000 non-null   object\n",
      " 4   contributor_name  1000 non-null   object\n",
      " 5   pr_merge_status   1000 non-null   object\n",
      "dtypes: int64(1), object(5)\n",
      "memory usage: 47.0+ KB\n",
      "pr_df: None\n"
     ]
    }
   ],
   "source": [
    "commit_df = pd.read_csv('oss_data/commits.csv')\n",
    "issues_df = pd.read_csv('oss_data/issues.csv')\n",
    "pr_df = pd.read_csv('oss_data/pull_requests.csv')\n",
    "\n",
    "# clean up dfs\n",
    "commit_df.drop(columns=['Unnamed: 0', 'data_collection_date'], inplace=True)\n",
    "issues_df.drop(columns=['Unnamed: 0', 'data_collection_date'], inplace=True)\n",
    "pr_df.drop(columns=['Unnamed: 0', 'data_collection_date'], inplace=True)\n",
    "\n",
    "print(\"commit_df:\", commit_df.info())\n",
    "print()\n",
    "print(\"issues_df:\", issues_df.info())\n",
    "print()\n",
    "print(\"pr_df:\", pr_df.info())\n"
   ]
  },
  {
   "cell_type": "markdown",
   "id": "006b209b",
   "metadata": {},
   "source": [
    "## Combining commit_df and issues_df to 1 table, as the only real difference in schema is the event_type"
   ]
  },
  {
   "cell_type": "code",
   "execution_count": 3,
   "id": "319ebf1a",
   "metadata": {},
   "outputs": [
    {
     "data": {
      "application/vnd.microsoft.datawrangler.viewer.v0+json": {
       "columns": [
        {
         "name": "index",
         "rawType": "int64",
         "type": "integer"
        },
        {
         "name": "repo_id",
         "rawType": "int64",
         "type": "integer"
        },
        {
         "name": "repo_name",
         "rawType": "object",
         "type": "string"
        },
        {
         "name": "event_type",
         "rawType": "object",
         "type": "string"
        },
        {
         "name": "event_datetime",
         "rawType": "object",
         "type": "string"
        },
        {
         "name": "contributor_name",
         "rawType": "object",
         "type": "string"
        }
       ],
       "conversionMethod": "pd.DataFrame",
       "ref": "fcbead8b-a9f7-436d-be5f-970f8b13bf7b",
       "rows": [
        [
         "0",
         "25939",
         "ompi",
         "commit",
         "2018-04-27 05:30:01-05:00",
         "Themos Tsikas"
        ],
        [
         "1",
         "25918",
         "sage",
         "commit",
         "2008-03-26 06:11:39-05:00",
         "mabshoff"
        ],
        [
         "2",
         "26069",
         "Trilinos",
         "commit",
         "2005-07-23 00:15:42-05:00",
         "Marzio Sala"
        ],
        [
         "3",
         "26069",
         "Trilinos",
         "commit",
         "2005-07-23 00:15:42-05:00",
         "Marzio Sala"
        ],
        [
         "4",
         "25939",
         "ompi",
         "commit",
         "2018-04-27 05:30:01-05:00",
         "Themos Tsikas"
        ]
       ],
       "shape": {
        "columns": 5,
        "rows": 5
       }
      },
      "text/html": [
       "<div>\n",
       "<style scoped>\n",
       "    .dataframe tbody tr th:only-of-type {\n",
       "        vertical-align: middle;\n",
       "    }\n",
       "\n",
       "    .dataframe tbody tr th {\n",
       "        vertical-align: top;\n",
       "    }\n",
       "\n",
       "    .dataframe thead th {\n",
       "        text-align: right;\n",
       "    }\n",
       "</style>\n",
       "<table border=\"1\" class=\"dataframe\">\n",
       "  <thead>\n",
       "    <tr style=\"text-align: right;\">\n",
       "      <th></th>\n",
       "      <th>repo_id</th>\n",
       "      <th>repo_name</th>\n",
       "      <th>event_type</th>\n",
       "      <th>event_datetime</th>\n",
       "      <th>contributor_name</th>\n",
       "    </tr>\n",
       "  </thead>\n",
       "  <tbody>\n",
       "    <tr>\n",
       "      <th>0</th>\n",
       "      <td>25939</td>\n",
       "      <td>ompi</td>\n",
       "      <td>commit</td>\n",
       "      <td>2018-04-27 05:30:01-05:00</td>\n",
       "      <td>Themos Tsikas</td>\n",
       "    </tr>\n",
       "    <tr>\n",
       "      <th>1</th>\n",
       "      <td>25918</td>\n",
       "      <td>sage</td>\n",
       "      <td>commit</td>\n",
       "      <td>2008-03-26 06:11:39-05:00</td>\n",
       "      <td>mabshoff</td>\n",
       "    </tr>\n",
       "    <tr>\n",
       "      <th>2</th>\n",
       "      <td>26069</td>\n",
       "      <td>Trilinos</td>\n",
       "      <td>commit</td>\n",
       "      <td>2005-07-23 00:15:42-05:00</td>\n",
       "      <td>Marzio Sala</td>\n",
       "    </tr>\n",
       "    <tr>\n",
       "      <th>3</th>\n",
       "      <td>26069</td>\n",
       "      <td>Trilinos</td>\n",
       "      <td>commit</td>\n",
       "      <td>2005-07-23 00:15:42-05:00</td>\n",
       "      <td>Marzio Sala</td>\n",
       "    </tr>\n",
       "    <tr>\n",
       "      <th>4</th>\n",
       "      <td>25939</td>\n",
       "      <td>ompi</td>\n",
       "      <td>commit</td>\n",
       "      <td>2018-04-27 05:30:01-05:00</td>\n",
       "      <td>Themos Tsikas</td>\n",
       "    </tr>\n",
       "  </tbody>\n",
       "</table>\n",
       "</div>"
      ],
      "text/plain": [
       "   repo_id repo_name event_type             event_datetime contributor_name\n",
       "0    25939      ompi     commit  2018-04-27 05:30:01-05:00    Themos Tsikas\n",
       "1    25918      sage     commit  2008-03-26 06:11:39-05:00         mabshoff\n",
       "2    26069  Trilinos     commit  2005-07-23 00:15:42-05:00      Marzio Sala\n",
       "3    26069  Trilinos     commit  2005-07-23 00:15:42-05:00      Marzio Sala\n",
       "4    25939      ompi     commit  2018-04-27 05:30:01-05:00    Themos Tsikas"
      ]
     },
     "execution_count": 3,
     "metadata": {},
     "output_type": "execute_result"
    }
   ],
   "source": [
    "comb_df = pd.concat([commit_df, issues_df], ignore_index=True).where(pd.notnull(pd.concat([issues_df, commit_df], ignore_index=True)), None)\n",
    "comb_df.head()"
   ]
  },
  {
   "cell_type": "code",
   "execution_count": 4,
   "id": "19f3a85a",
   "metadata": {},
   "outputs": [
    {
     "data": {
      "text/plain": [
       "event_type\n",
       "commit           4453789\n",
       "issue_created      68974\n",
       "Name: count, dtype: int64"
      ]
     },
     "execution_count": 4,
     "metadata": {},
     "output_type": "execute_result"
    }
   ],
   "source": [
    "comb_df.value_counts('event_type')"
   ]
  },
  {
   "cell_type": "code",
   "execution_count": 5,
   "id": "c30eae26",
   "metadata": {},
   "outputs": [
    {
     "data": {
      "application/vnd.microsoft.datawrangler.viewer.v0+json": {
       "columns": [
        {
         "name": "index",
         "rawType": "int64",
         "type": "integer"
        },
        {
         "name": "repo_id",
         "rawType": "int64",
         "type": "integer"
        },
        {
         "name": "repo_name",
         "rawType": "object",
         "type": "string"
        },
        {
         "name": "event_type",
         "rawType": "object",
         "type": "string"
        },
        {
         "name": "event_datetime",
         "rawType": "object",
         "type": "string"
        },
        {
         "name": "contributor_name",
         "rawType": "object",
         "type": "unknown"
        }
       ],
       "conversionMethod": "pd.DataFrame",
       "ref": "a8555ee5-37c1-499e-b5a0-6acba836e6c9",
       "rows": [
        [
         "1535919",
         "25952",
         "yt",
         "commit",
         "2010-12-02 17:20:00-06:00",
         "\"Stephen Skory stephenskory@yahoo.com\""
        ],
        [
         "741057",
         "25992",
         "landlab",
         "commit",
         "2013-04-23 00:16:20-05:00",
         "(no author)"
        ],
        [
         "741109",
         "25992",
         "landlab",
         "commit",
         "2013-04-23 00:16:20-05:00",
         "(no author)"
        ],
        [
         "741059",
         "25992",
         "landlab",
         "commit",
         "2013-04-23 00:16:20-05:00",
         "(no author)"
        ],
        [
         "741060",
         "25992",
         "landlab",
         "commit",
         "2013-04-23 00:16:20-05:00",
         "(no author)"
        ],
        [
         "741061",
         "25992",
         "landlab",
         "commit",
         "2013-04-23 00:16:20-05:00",
         "(no author)"
        ],
        [
         "741062",
         "25992",
         "landlab",
         "commit",
         "2013-04-23 00:16:20-05:00",
         "(no author)"
        ],
        [
         "741063",
         "25992",
         "landlab",
         "commit",
         "2013-04-23 00:16:20-05:00",
         "(no author)"
        ],
        [
         "741108",
         "25992",
         "landlab",
         "commit",
         "2013-04-23 00:16:20-05:00",
         "(no author)"
        ],
        [
         "741064",
         "25992",
         "landlab",
         "commit",
         "2013-04-23 00:16:20-05:00",
         "(no author)"
        ],
        [
         "741065",
         "25992",
         "landlab",
         "commit",
         "2013-04-23 00:16:20-05:00",
         "(no author)"
        ],
        [
         "741056",
         "25992",
         "landlab",
         "commit",
         "2013-04-23 00:16:20-05:00",
         "(no author)"
        ],
        [
         "741066",
         "25992",
         "landlab",
         "commit",
         "2013-04-23 00:16:20-05:00",
         "(no author)"
        ],
        [
         "741099",
         "25992",
         "landlab",
         "commit",
         "2013-04-23 00:16:20-05:00",
         "(no author)"
        ],
        [
         "741100",
         "25992",
         "landlab",
         "commit",
         "2013-04-23 00:16:20-05:00",
         "(no author)"
        ],
        [
         "741101",
         "25992",
         "landlab",
         "commit",
         "2013-04-23 00:16:20-05:00",
         "(no author)"
        ],
        [
         "741102",
         "25992",
         "landlab",
         "commit",
         "2013-04-23 00:16:20-05:00",
         "(no author)"
        ],
        [
         "741103",
         "25992",
         "landlab",
         "commit",
         "2013-04-23 00:16:20-05:00",
         "(no author)"
        ],
        [
         "741104",
         "25992",
         "landlab",
         "commit",
         "2013-04-23 00:16:20-05:00",
         "(no author)"
        ],
        [
         "741105",
         "25992",
         "landlab",
         "commit",
         "2013-04-23 00:16:20-05:00",
         "(no author)"
        ],
        [
         "1874855",
         "25902",
         "pi-qmc",
         "commit",
         "2009-01-16 20:56:25-06:00",
         "(no author)"
        ],
        [
         "741106",
         "25992",
         "landlab",
         "commit",
         "2013-04-23 00:16:20-05:00",
         "(no author)"
        ],
        [
         "741107",
         "25992",
         "landlab",
         "commit",
         "2013-04-23 00:16:20-05:00",
         "(no author)"
        ],
        [
         "741098",
         "25992",
         "landlab",
         "commit",
         "2013-04-23 00:16:20-05:00",
         "(no author)"
        ],
        [
         "741110",
         "25992",
         "landlab",
         "commit",
         "2013-04-23 00:16:20-05:00",
         "(no author)"
        ],
        [
         "741058",
         "25992",
         "landlab",
         "commit",
         "2013-04-23 00:16:20-05:00",
         "(no author)"
        ],
        [
         "908045",
         "25939",
         "ompi",
         "commit",
         "2015-08-20 15:01:14-05:00",
         "--quiet"
        ],
        [
         "9260",
         "25939",
         "ompi",
         "commit",
         "2015-08-20 12:40:23-05:00",
         "--quiet"
        ],
        [
         "2125050",
         "25939",
         "ompi",
         "commit",
         "2015-08-20 13:23:14-05:00",
         "--quiet"
        ],
        [
         "308704",
         "25939",
         "ompi",
         "commit",
         "2015-08-20 13:24:41-05:00",
         "--quiet"
        ],
        [
         "4475526",
         "25918",
         "sage",
         "issue_created",
         "2021-02-04 08:50:53",
         "004f9c6c-ac10-4a12-a367-dc45be16a4d0"
        ],
        [
         "4497928",
         "25918",
         "sage",
         "issue_created",
         "2019-04-11 07:44:30",
         "0102db7c-e008-49db-81b0-d3eb9e7e355d"
        ],
        [
         "4473270",
         "25918",
         "sage",
         "issue_created",
         "2022-01-17 00:35:24",
         "017dfe3e-cef2-4b91-ad1f-232b5e7b9d6f"
        ],
        [
         "4472826",
         "25918",
         "sage",
         "issue_created",
         "2022-03-03 17:27:27",
         "017dfe3e-cef2-4b91-ad1f-232b5e7b9d6f"
        ],
        [
         "4473829",
         "25918",
         "sage",
         "issue_created",
         "2021-10-12 16:32:14",
         "017dfe3e-cef2-4b91-ad1f-232b5e7b9d6f"
        ],
        [
         "4517201",
         "25918",
         "sage",
         "issue_created",
         "2009-05-26 02:15:06",
         "01a948a1-238d-46b2-b3c4-278ae7d50247"
        ],
        [
         "4515857",
         "25918",
         "sage",
         "issue_created",
         "2009-11-30 16:46:19",
         "01a948a1-238d-46b2-b3c4-278ae7d50247"
        ],
        [
         "4516695",
         "25918",
         "sage",
         "issue_created",
         "2009-07-28 05:54:48",
         "01a948a1-238d-46b2-b3c4-278ae7d50247"
        ],
        [
         "4484539",
         "25918",
         "sage",
         "issue_created",
         "2015-01-16 07:43:13",
         "01e340b9-26d1-43e0-a194-d9a8889e621b"
        ],
        [
         "4509564",
         "25918",
         "sage",
         "issue_created",
         "2013-02-14 22:57:33",
         "01f5781a-be80-4f39-b75f-3542e9378080"
        ],
        [
         "4509580",
         "25918",
         "sage",
         "issue_created",
         "2013-02-13 20:34:48",
         "01f5781a-be80-4f39-b75f-3542e9378080"
        ],
        [
         "4510427",
         "25918",
         "sage",
         "issue_created",
         "2012-07-12 17:02:42",
         "01f5781a-be80-4f39-b75f-3542e9378080"
        ],
        [
         "4510435",
         "25918",
         "sage",
         "issue_created",
         "2012-07-11 15:41:40",
         "01f5781a-be80-4f39-b75f-3542e9378080"
        ],
        [
         "4510419",
         "25918",
         "sage",
         "issue_created",
         "2012-07-13 19:32:45",
         "01f5781a-be80-4f39-b75f-3542e9378080"
        ],
        [
         "4507838",
         "25918",
         "sage",
         "issue_created",
         "2014-02-27 19:40:51",
         "01f5781a-be80-4f39-b75f-3542e9378080"
        ],
        [
         "4510441",
         "25918",
         "sage",
         "issue_created",
         "2012-07-10 23:37:08",
         "01f5781a-be80-4f39-b75f-3542e9378080"
        ],
        [
         "4507699",
         "25918",
         "sage",
         "issue_created",
         "2014-03-25 14:31:38",
         "01f5781a-be80-4f39-b75f-3542e9378080"
        ],
        [
         "4510186",
         "25918",
         "sage",
         "issue_created",
         "2012-09-22 10:09:10",
         "0327930e-049f-43cc-8d1e-a5d2e39c697e"
        ],
        [
         "4509858",
         "25918",
         "sage",
         "issue_created",
         "2012-12-16 16:38:36",
         "0327930e-049f-43cc-8d1e-a5d2e39c697e"
        ],
        [
         "4510000",
         "25918",
         "sage",
         "issue_created",
         "2012-11-10 20:08:47",
         "0327930e-049f-43cc-8d1e-a5d2e39c697e"
        ]
       ],
       "shape": {
        "columns": 5,
        "rows": 4522763
       }
      },
      "text/html": [
       "<div>\n",
       "<style scoped>\n",
       "    .dataframe tbody tr th:only-of-type {\n",
       "        vertical-align: middle;\n",
       "    }\n",
       "\n",
       "    .dataframe tbody tr th {\n",
       "        vertical-align: top;\n",
       "    }\n",
       "\n",
       "    .dataframe thead th {\n",
       "        text-align: right;\n",
       "    }\n",
       "</style>\n",
       "<table border=\"1\" class=\"dataframe\">\n",
       "  <thead>\n",
       "    <tr style=\"text-align: right;\">\n",
       "      <th></th>\n",
       "      <th>repo_id</th>\n",
       "      <th>repo_name</th>\n",
       "      <th>event_type</th>\n",
       "      <th>event_datetime</th>\n",
       "      <th>contributor_name</th>\n",
       "    </tr>\n",
       "  </thead>\n",
       "  <tbody>\n",
       "    <tr>\n",
       "      <th>1535919</th>\n",
       "      <td>25952</td>\n",
       "      <td>yt</td>\n",
       "      <td>commit</td>\n",
       "      <td>2010-12-02 17:20:00-06:00</td>\n",
       "      <td>\"Stephen Skory stephenskory@yahoo.com\"</td>\n",
       "    </tr>\n",
       "    <tr>\n",
       "      <th>741057</th>\n",
       "      <td>25992</td>\n",
       "      <td>landlab</td>\n",
       "      <td>commit</td>\n",
       "      <td>2013-04-23 00:16:20-05:00</td>\n",
       "      <td>(no author)</td>\n",
       "    </tr>\n",
       "    <tr>\n",
       "      <th>741109</th>\n",
       "      <td>25992</td>\n",
       "      <td>landlab</td>\n",
       "      <td>commit</td>\n",
       "      <td>2013-04-23 00:16:20-05:00</td>\n",
       "      <td>(no author)</td>\n",
       "    </tr>\n",
       "    <tr>\n",
       "      <th>741059</th>\n",
       "      <td>25992</td>\n",
       "      <td>landlab</td>\n",
       "      <td>commit</td>\n",
       "      <td>2013-04-23 00:16:20-05:00</td>\n",
       "      <td>(no author)</td>\n",
       "    </tr>\n",
       "    <tr>\n",
       "      <th>741060</th>\n",
       "      <td>25992</td>\n",
       "      <td>landlab</td>\n",
       "      <td>commit</td>\n",
       "      <td>2013-04-23 00:16:20-05:00</td>\n",
       "      <td>(no author)</td>\n",
       "    </tr>\n",
       "    <tr>\n",
       "      <th>...</th>\n",
       "      <td>...</td>\n",
       "      <td>...</td>\n",
       "      <td>...</td>\n",
       "      <td>...</td>\n",
       "      <td>...</td>\n",
       "    </tr>\n",
       "    <tr>\n",
       "      <th>822880</th>\n",
       "      <td>25859</td>\n",
       "      <td>llvm-project</td>\n",
       "      <td>commit</td>\n",
       "      <td>2014-06-10 09:44:02-05:00</td>\n",
       "      <td>None</td>\n",
       "    </tr>\n",
       "    <tr>\n",
       "      <th>1073128</th>\n",
       "      <td>25952</td>\n",
       "      <td>yt</td>\n",
       "      <td>commit</td>\n",
       "      <td>2007-02-08 22:13:58-06:00</td>\n",
       "      <td>NaN</td>\n",
       "    </tr>\n",
       "    <tr>\n",
       "      <th>1142102</th>\n",
       "      <td>25859</td>\n",
       "      <td>llvm-project</td>\n",
       "      <td>commit</td>\n",
       "      <td>2015-07-31 12:58:14-05:00</td>\n",
       "      <td>None</td>\n",
       "    </tr>\n",
       "    <tr>\n",
       "      <th>1753868</th>\n",
       "      <td>25917</td>\n",
       "      <td>psi4</td>\n",
       "      <td>commit</td>\n",
       "      <td>2017-07-12 00:25:44-05:00</td>\n",
       "      <td>NaN</td>\n",
       "    </tr>\n",
       "    <tr>\n",
       "      <th>1822842</th>\n",
       "      <td>25917</td>\n",
       "      <td>psi4</td>\n",
       "      <td>commit</td>\n",
       "      <td>2011-08-07 12:22:22-05:00</td>\n",
       "      <td>None</td>\n",
       "    </tr>\n",
       "  </tbody>\n",
       "</table>\n",
       "<p>4522763 rows × 5 columns</p>\n",
       "</div>"
      ],
      "text/plain": [
       "         repo_id     repo_name event_type             event_datetime  \\\n",
       "1535919    25952            yt     commit  2010-12-02 17:20:00-06:00   \n",
       "741057     25992       landlab     commit  2013-04-23 00:16:20-05:00   \n",
       "741109     25992       landlab     commit  2013-04-23 00:16:20-05:00   \n",
       "741059     25992       landlab     commit  2013-04-23 00:16:20-05:00   \n",
       "741060     25992       landlab     commit  2013-04-23 00:16:20-05:00   \n",
       "...          ...           ...        ...                        ...   \n",
       "822880     25859  llvm-project     commit  2014-06-10 09:44:02-05:00   \n",
       "1073128    25952            yt     commit  2007-02-08 22:13:58-06:00   \n",
       "1142102    25859  llvm-project     commit  2015-07-31 12:58:14-05:00   \n",
       "1753868    25917          psi4     commit  2017-07-12 00:25:44-05:00   \n",
       "1822842    25917          psi4     commit  2011-08-07 12:22:22-05:00   \n",
       "\n",
       "                               contributor_name  \n",
       "1535919  \"Stephen Skory stephenskory@yahoo.com\"  \n",
       "741057                              (no author)  \n",
       "741109                              (no author)  \n",
       "741059                              (no author)  \n",
       "741060                              (no author)  \n",
       "...                                         ...  \n",
       "822880                                     None  \n",
       "1073128                                     NaN  \n",
       "1142102                                    None  \n",
       "1753868                                     NaN  \n",
       "1822842                                    None  \n",
       "\n",
       "[4522763 rows x 5 columns]"
      ]
     },
     "execution_count": 5,
     "metadata": {},
     "output_type": "execute_result"
    }
   ],
   "source": [
    "comb_df.sort_values(by='contributor_name')"
   ]
  },
  {
   "cell_type": "code",
   "execution_count": 6,
   "id": "6c20ce5f",
   "metadata": {},
   "outputs": [
    {
     "data": {
      "text/plain": [
       "event_type\n",
       "commit           942548\n",
       "issue_created     68751\n",
       "Name: count, dtype: int64"
      ]
     },
     "execution_count": 6,
     "metadata": {},
     "output_type": "execute_result"
    }
   ],
   "source": [
    "comb_df.drop_duplicates(inplace=True)\n",
    "comb_df.value_counts('event_type')"
   ]
  },
  {
   "cell_type": "code",
   "execution_count": 7,
   "id": "6c33bd65",
   "metadata": {},
   "outputs": [
    {
     "data": {
      "application/vnd.microsoft.datawrangler.viewer.v0+json": {
       "columns": [
        {
         "name": "index",
         "rawType": "int64",
         "type": "integer"
        },
        {
         "name": "repo_id",
         "rawType": "int64",
         "type": "integer"
        },
        {
         "name": "repo_name",
         "rawType": "object",
         "type": "string"
        },
        {
         "name": "event_type",
         "rawType": "object",
         "type": "string"
        },
        {
         "name": "event_datetime",
         "rawType": "object",
         "type": "string"
        },
        {
         "name": "contributor_name",
         "rawType": "object",
         "type": "unknown"
        }
       ],
       "conversionMethod": "pd.DataFrame",
       "ref": "a42ac669-9a59-4dea-a445-94d6b44bd1d1",
       "rows": [
        [
         "0",
         "25939",
         "ompi",
         "commit",
         "2018-04-27 05:30:01-05:00",
         "Themos Tsikas"
        ],
        [
         "1",
         "25918",
         "sage",
         "commit",
         "2008-03-26 06:11:39-05:00",
         "mabshoff"
        ],
        [
         "2",
         "26069",
         "Trilinos",
         "commit",
         "2005-07-23 00:15:42-05:00",
         "Marzio Sala"
        ],
        [
         "6",
         "25859",
         "llvm-project",
         "commit",
         "2018-12-20 06:59:05-06:00",
         "Ulrich Weigand"
        ],
        [
         "7",
         "26042",
         "inexlib_rio",
         "commit",
         "2015-11-13 10:42:55-06:00",
         "Guy Barrand"
        ],
        [
         "8",
         "26105",
         "bbp",
         "commit",
         "2022-03-28 02:16:31-05:00",
         "Fabio Silva"
        ],
        [
         "9",
         "26062",
         "caffe",
         "commit",
         "2015-08-14 14:52:39-05:00",
         "Jeff Donahue"
        ],
        [
         "10",
         "25859",
         "llvm-project",
         "commit",
         "2013-04-19 19:23:26-05:00",
         "Greg Clayton"
        ],
        [
         "11",
         "25918",
         "sage",
         "commit",
         "2018-03-02 04:05:35-06:00",
         "Vincent Neiger"
        ],
        [
         "12",
         "25918",
         "sage",
         "commit",
         "2014-06-28 15:12:33-05:00",
         "Miguel Marco"
        ],
        [
         "13",
         "25918",
         "sage",
         "commit",
         "2013-06-19 17:30:36-05:00",
         "R. Andrew Ohana"
        ],
        [
         "14",
         "25918",
         "sage",
         "commit",
         "2014-10-17 10:18:17-05:00",
         "Vincent Delecroix"
        ],
        [
         "15",
         "25918",
         "sage",
         "commit",
         "2007-05-08 14:47:10-05:00",
         "padicgroup"
        ],
        [
         "17",
         "26105",
         "bbp",
         "commit",
         "2018-05-22 18:19:50-05:00",
         "Fabio Silva"
        ],
        [
         "18",
         "26105",
         "bbp",
         "commit",
         "2021-01-27 12:17:22-06:00",
         "Fabio Silva"
        ],
        [
         "23",
         "25918",
         "sage",
         "commit",
         "2014-08-02 03:46:11-05:00",
         "Clemens Heuberger"
        ],
        [
         "24",
         "25918",
         "sage",
         "commit",
         "2021-01-07 13:43:34-06:00",
         "Jonathan Kliem"
        ],
        [
         "26",
         "25918",
         "sage",
         "commit",
         "2017-06-27 15:13:58-05:00",
         "Zachary Gershkoff"
        ],
        [
         "27",
         "25859",
         "llvm-project",
         "commit",
         "2016-10-06 12:58:38-05:00",
         "Michael Ilseman"
        ],
        [
         "29",
         "25918",
         "sage",
         "commit",
         "2022-09-09 11:39:06-05:00",
         "David Roe"
        ],
        [
         "30",
         "25918",
         "sage",
         "commit",
         "2016-12-07 00:41:09-06:00",
         "Julian Rüth"
        ],
        [
         "31",
         "25918",
         "sage",
         "commit",
         "2014-10-28 09:15:06-05:00",
         "Volker Braun"
        ],
        [
         "32",
         "25918",
         "sage",
         "commit",
         "2008-03-13 17:11:35-05:00",
         "dmharvey"
        ],
        [
         "33",
         "25939",
         "ompi",
         "commit",
         "2018-03-02 06:54:12-06:00",
         "Themos Tsikas"
        ],
        [
         "35",
         "25918",
         "sage",
         "commit",
         "2009-01-01 21:11:23-06:00",
         "mabshoff"
        ],
        [
         "37",
         "25918",
         "sage",
         "commit",
         "2014-03-07 11:29:28-06:00",
         "Ralf Stephan"
        ],
        [
         "38",
         "25918",
         "sage",
         "commit",
         "2014-01-29 14:07:05-06:00",
         "Darij Grinberg"
        ],
        [
         "40",
         "25918",
         "sage",
         "commit",
         "2009-02-20 15:04:21-06:00",
         "mabshoff"
        ],
        [
         "41",
         "25918",
         "sage",
         "commit",
         "2007-02-20 14:46:09-06:00",
         "Mike Hansen"
        ],
        [
         "42",
         "25918",
         "sage",
         "commit",
         "2018-11-26 16:47:44-06:00",
         "Release Manager"
        ],
        [
         "43",
         "25918",
         "sage",
         "commit",
         "2018-05-17 02:27:40-05:00",
         "assaferan"
        ],
        [
         "44",
         "25918",
         "sage",
         "commit",
         "2018-01-30 02:37:45-06:00",
         "Simon Brandhorst"
        ],
        [
         "47",
         "25918",
         "sage",
         "commit",
         "2018-06-07 18:48:52-05:00",
         "Brent Baccala"
        ],
        [
         "48",
         "25918",
         "sage",
         "commit",
         "2014-03-20 15:32:00-05:00",
         "Frédéric Chapoton"
        ],
        [
         "49",
         "25918",
         "sage",
         "commit",
         "2014-05-15 17:06:39-05:00",
         "Travis Scrimshaw"
        ],
        [
         "50",
         "25918",
         "sage",
         "commit",
         "2016-02-09 03:25:04-06:00",
         "Jori Mäntysalo"
        ],
        [
         "53",
         "25918",
         "sage",
         "commit",
         "2017-03-19 07:29:37-05:00",
         "Marcelo Forets"
        ],
        [
         "54",
         "25928",
         "pyhf",
         "commit",
         "2021-11-18 18:05:01-06:00",
         "Matthew Feickert"
        ],
        [
         "55",
         "26069",
         "Trilinos",
         "commit",
         "2005-07-31 12:34:29-05:00",
         "Marzio Sala"
        ],
        [
         "74",
         "25859",
         "llvm-project",
         "commit",
         "2010-12-20 12:35:50-06:00",
         "Caroline Tice"
        ],
        [
         "77",
         "25859",
         "llvm-project",
         "commit",
         "2010-10-28 14:14:28-05:00",
         "Devang Patel"
        ],
        [
         "78",
         "25859",
         "llvm-project",
         "commit",
         "2015-01-14 16:58:09-06:00",
         "Zachary Turner"
        ],
        [
         "79",
         "25859",
         "llvm-project",
         "commit",
         "2010-12-02 18:27:48-06:00",
         "Greg Clayton"
        ],
        [
         "80",
         "25918",
         "sage",
         "commit",
         "2016-02-02 11:25:26-06:00",
         "Release Manager"
        ],
        [
         "81",
         "25918",
         "sage",
         "commit",
         "2009-04-07 21:55:48-05:00",
         "wstein"
        ],
        [
         "82",
         "25918",
         "sage",
         "commit",
         "2015-07-07 08:00:32-05:00",
         "Frederic HAN"
        ],
        [
         "84",
         "25859",
         "llvm-project",
         "commit",
         "2009-07-17 06:44:20-05:00",
         "Duncan Sands"
        ],
        [
         "85",
         "25859",
         "llvm-project",
         "commit",
         "2015-06-02 08:43:18-05:00",
         "Elena Demikhovsky"
        ],
        [
         "87",
         "25859",
         "llvm-project",
         "commit",
         "2018-05-15 13:40:29-05:00",
         "Michael Zolotukhin"
        ],
        [
         "97",
         "25859",
         "llvm-project",
         "commit",
         "2016-02-24 16:31:18-06:00",
         "Sanjay Patel"
        ]
       ],
       "shape": {
        "columns": 5,
        "rows": 1011297
       }
      },
      "text/html": [
       "<div>\n",
       "<style scoped>\n",
       "    .dataframe tbody tr th:only-of-type {\n",
       "        vertical-align: middle;\n",
       "    }\n",
       "\n",
       "    .dataframe tbody tr th {\n",
       "        vertical-align: top;\n",
       "    }\n",
       "\n",
       "    .dataframe thead th {\n",
       "        text-align: right;\n",
       "    }\n",
       "</style>\n",
       "<table border=\"1\" class=\"dataframe\">\n",
       "  <thead>\n",
       "    <tr style=\"text-align: right;\">\n",
       "      <th></th>\n",
       "      <th>repo_id</th>\n",
       "      <th>repo_name</th>\n",
       "      <th>event_type</th>\n",
       "      <th>event_datetime</th>\n",
       "      <th>contributor_name</th>\n",
       "    </tr>\n",
       "  </thead>\n",
       "  <tbody>\n",
       "    <tr>\n",
       "      <th>0</th>\n",
       "      <td>25939</td>\n",
       "      <td>ompi</td>\n",
       "      <td>commit</td>\n",
       "      <td>2018-04-27 05:30:01-05:00</td>\n",
       "      <td>Themos Tsikas</td>\n",
       "    </tr>\n",
       "    <tr>\n",
       "      <th>1</th>\n",
       "      <td>25918</td>\n",
       "      <td>sage</td>\n",
       "      <td>commit</td>\n",
       "      <td>2008-03-26 06:11:39-05:00</td>\n",
       "      <td>mabshoff</td>\n",
       "    </tr>\n",
       "    <tr>\n",
       "      <th>2</th>\n",
       "      <td>26069</td>\n",
       "      <td>Trilinos</td>\n",
       "      <td>commit</td>\n",
       "      <td>2005-07-23 00:15:42-05:00</td>\n",
       "      <td>Marzio Sala</td>\n",
       "    </tr>\n",
       "    <tr>\n",
       "      <th>6</th>\n",
       "      <td>25859</td>\n",
       "      <td>llvm-project</td>\n",
       "      <td>commit</td>\n",
       "      <td>2018-12-20 06:59:05-06:00</td>\n",
       "      <td>Ulrich Weigand</td>\n",
       "    </tr>\n",
       "    <tr>\n",
       "      <th>7</th>\n",
       "      <td>26042</td>\n",
       "      <td>inexlib_rio</td>\n",
       "      <td>commit</td>\n",
       "      <td>2015-11-13 10:42:55-06:00</td>\n",
       "      <td>Guy Barrand</td>\n",
       "    </tr>\n",
       "    <tr>\n",
       "      <th>...</th>\n",
       "      <td>...</td>\n",
       "      <td>...</td>\n",
       "      <td>...</td>\n",
       "      <td>...</td>\n",
       "      <td>...</td>\n",
       "    </tr>\n",
       "    <tr>\n",
       "      <th>4522758</th>\n",
       "      <td>25918</td>\n",
       "      <td>sage</td>\n",
       "      <td>issue_created</td>\n",
       "      <td>2006-09-12 01:11:15</td>\n",
       "      <td>e13df781-8644-42aa-9d66-1e8d332e25bb</td>\n",
       "    </tr>\n",
       "    <tr>\n",
       "      <th>4522759</th>\n",
       "      <td>25918</td>\n",
       "      <td>sage</td>\n",
       "      <td>issue_created</td>\n",
       "      <td>2006-09-12 00:45:22</td>\n",
       "      <td>e13df781-8644-42aa-9d66-1e8d332e25bb</td>\n",
       "    </tr>\n",
       "    <tr>\n",
       "      <th>4522760</th>\n",
       "      <td>25918</td>\n",
       "      <td>sage</td>\n",
       "      <td>issue_created</td>\n",
       "      <td>2006-09-12 00:41:16</td>\n",
       "      <td>e13df781-8644-42aa-9d66-1e8d332e25bb</td>\n",
       "    </tr>\n",
       "    <tr>\n",
       "      <th>4522761</th>\n",
       "      <td>25918</td>\n",
       "      <td>sage</td>\n",
       "      <td>issue_created</td>\n",
       "      <td>2006-09-11 11:22:29</td>\n",
       "      <td>ghost</td>\n",
       "    </tr>\n",
       "    <tr>\n",
       "      <th>4522762</th>\n",
       "      <td>25918</td>\n",
       "      <td>sage</td>\n",
       "      <td>issue_created</td>\n",
       "      <td>2006-09-11 04:04:32</td>\n",
       "      <td>ghost</td>\n",
       "    </tr>\n",
       "  </tbody>\n",
       "</table>\n",
       "<p>1011297 rows × 5 columns</p>\n",
       "</div>"
      ],
      "text/plain": [
       "         repo_id     repo_name     event_type             event_datetime  \\\n",
       "0          25939          ompi         commit  2018-04-27 05:30:01-05:00   \n",
       "1          25918          sage         commit  2008-03-26 06:11:39-05:00   \n",
       "2          26069      Trilinos         commit  2005-07-23 00:15:42-05:00   \n",
       "6          25859  llvm-project         commit  2018-12-20 06:59:05-06:00   \n",
       "7          26042   inexlib_rio         commit  2015-11-13 10:42:55-06:00   \n",
       "...          ...           ...            ...                        ...   \n",
       "4522758    25918          sage  issue_created        2006-09-12 01:11:15   \n",
       "4522759    25918          sage  issue_created        2006-09-12 00:45:22   \n",
       "4522760    25918          sage  issue_created        2006-09-12 00:41:16   \n",
       "4522761    25918          sage  issue_created        2006-09-11 11:22:29   \n",
       "4522762    25918          sage  issue_created        2006-09-11 04:04:32   \n",
       "\n",
       "                             contributor_name  \n",
       "0                               Themos Tsikas  \n",
       "1                                    mabshoff  \n",
       "2                                 Marzio Sala  \n",
       "6                              Ulrich Weigand  \n",
       "7                                 Guy Barrand  \n",
       "...                                       ...  \n",
       "4522758  e13df781-8644-42aa-9d66-1e8d332e25bb  \n",
       "4522759  e13df781-8644-42aa-9d66-1e8d332e25bb  \n",
       "4522760  e13df781-8644-42aa-9d66-1e8d332e25bb  \n",
       "4522761                                 ghost  \n",
       "4522762                                 ghost  \n",
       "\n",
       "[1011297 rows x 5 columns]"
      ]
     },
     "execution_count": 7,
     "metadata": {},
     "output_type": "execute_result"
    }
   ],
   "source": [
    "comb_df[comb_df['contributor_name'] is not None and comb_df['contributor_name'] != '(no author)']"
   ]
  },
  {
   "cell_type": "code",
   "execution_count": 8,
   "id": "3f29151b",
   "metadata": {},
   "outputs": [
    {
     "data": {
      "text/plain": [
       "'William Stein'"
      ]
     },
     "execution_count": 8,
     "metadata": {},
     "output_type": "execute_result"
    }
   ],
   "source": [
    "import random\n",
    "num = int(random.random() * (comb_df['contributor_name'].nunique()))\n",
    "name = comb_df.iloc[num]['contributor_name']\n",
    "name"
   ]
  },
  {
   "cell_type": "code",
   "execution_count": 9,
   "id": "e494397f",
   "metadata": {},
   "outputs": [
    {
     "data": {
      "application/vnd.microsoft.datawrangler.viewer.v0+json": {
       "columns": [
        {
         "name": "index",
         "rawType": "int64",
         "type": "integer"
        },
        {
         "name": "repo_id",
         "rawType": "int64",
         "type": "integer"
        },
        {
         "name": "repo_name",
         "rawType": "object",
         "type": "string"
        },
        {
         "name": "event_type",
         "rawType": "object",
         "type": "string"
        },
        {
         "name": "event_datetime",
         "rawType": "object",
         "type": "string"
        },
        {
         "name": "contributor_name",
         "rawType": "object",
         "type": "string"
        }
       ],
       "conversionMethod": "pd.DataFrame",
       "ref": "da2b36f5-2cf9-4ea1-863f-4a3d9d5ef72b",
       "rows": [
        [
         "124",
         "25918",
         "sage",
         "commit",
         "2010-02-15 20:53:39-06:00",
         "William Stein"
        ],
        [
         "143",
         "25918",
         "sage",
         "commit",
         "2007-09-07 02:07:06-05:00",
         "William Stein"
        ],
        [
         "151",
         "25918",
         "sage",
         "commit",
         "2007-11-17 22:12:30-06:00",
         "William Stein"
        ],
        [
         "188",
         "25918",
         "sage",
         "commit",
         "2007-06-17 06:26:24-05:00",
         "William Stein"
        ],
        [
         "197",
         "25918",
         "sage",
         "commit",
         "2007-01-13 15:22:30-06:00",
         "William Stein"
        ]
       ],
       "shape": {
        "columns": 5,
        "rows": 5
       }
      },
      "text/html": [
       "<div>\n",
       "<style scoped>\n",
       "    .dataframe tbody tr th:only-of-type {\n",
       "        vertical-align: middle;\n",
       "    }\n",
       "\n",
       "    .dataframe tbody tr th {\n",
       "        vertical-align: top;\n",
       "    }\n",
       "\n",
       "    .dataframe thead th {\n",
       "        text-align: right;\n",
       "    }\n",
       "</style>\n",
       "<table border=\"1\" class=\"dataframe\">\n",
       "  <thead>\n",
       "    <tr style=\"text-align: right;\">\n",
       "      <th></th>\n",
       "      <th>repo_id</th>\n",
       "      <th>repo_name</th>\n",
       "      <th>event_type</th>\n",
       "      <th>event_datetime</th>\n",
       "      <th>contributor_name</th>\n",
       "    </tr>\n",
       "  </thead>\n",
       "  <tbody>\n",
       "    <tr>\n",
       "      <th>124</th>\n",
       "      <td>25918</td>\n",
       "      <td>sage</td>\n",
       "      <td>commit</td>\n",
       "      <td>2010-02-15 20:53:39-06:00</td>\n",
       "      <td>William Stein</td>\n",
       "    </tr>\n",
       "    <tr>\n",
       "      <th>143</th>\n",
       "      <td>25918</td>\n",
       "      <td>sage</td>\n",
       "      <td>commit</td>\n",
       "      <td>2007-09-07 02:07:06-05:00</td>\n",
       "      <td>William Stein</td>\n",
       "    </tr>\n",
       "    <tr>\n",
       "      <th>151</th>\n",
       "      <td>25918</td>\n",
       "      <td>sage</td>\n",
       "      <td>commit</td>\n",
       "      <td>2007-11-17 22:12:30-06:00</td>\n",
       "      <td>William Stein</td>\n",
       "    </tr>\n",
       "    <tr>\n",
       "      <th>188</th>\n",
       "      <td>25918</td>\n",
       "      <td>sage</td>\n",
       "      <td>commit</td>\n",
       "      <td>2007-06-17 06:26:24-05:00</td>\n",
       "      <td>William Stein</td>\n",
       "    </tr>\n",
       "    <tr>\n",
       "      <th>197</th>\n",
       "      <td>25918</td>\n",
       "      <td>sage</td>\n",
       "      <td>commit</td>\n",
       "      <td>2007-01-13 15:22:30-06:00</td>\n",
       "      <td>William Stein</td>\n",
       "    </tr>\n",
       "  </tbody>\n",
       "</table>\n",
       "</div>"
      ],
      "text/plain": [
       "     repo_id repo_name event_type             event_datetime contributor_name\n",
       "124    25918      sage     commit  2010-02-15 20:53:39-06:00    William Stein\n",
       "143    25918      sage     commit  2007-09-07 02:07:06-05:00    William Stein\n",
       "151    25918      sage     commit  2007-11-17 22:12:30-06:00    William Stein\n",
       "188    25918      sage     commit  2007-06-17 06:26:24-05:00    William Stein\n",
       "197    25918      sage     commit  2007-01-13 15:22:30-06:00    William Stein"
      ]
     },
     "execution_count": 9,
     "metadata": {},
     "output_type": "execute_result"
    }
   ],
   "source": [
    "person_df = comb_df[comb_df['contributor_name'] == name]\n",
    "person_df.head()"
   ]
  },
  {
   "cell_type": "markdown",
   "id": "3c6454fe",
   "metadata": {},
   "source": [
    "# Do people who commit raise issues, or do people who raise issues also commit?"
   ]
  },
  {
   "cell_type": "markdown",
   "id": "f6e75e65",
   "metadata": {},
   "source": [
    "## Graph all num of commits vs num of issues raised for each person"
   ]
  },
  {
   "cell_type": "code",
   "execution_count": 10,
   "id": "f0e92428",
   "metadata": {},
   "outputs": [],
   "source": [
    "person_df = comb_df.groupby(['contributor_name', 'event_type']).size().unstack(fill_value=0)\n"
   ]
  },
  {
   "cell_type": "code",
   "execution_count": 11,
   "id": "483d4d26",
   "metadata": {},
   "outputs": [
    {
     "data": {
      "application/vnd.microsoft.datawrangler.viewer.v0+json": {
       "columns": [
        {
         "name": "contributor_name",
         "rawType": "object",
         "type": "string"
        },
        {
         "name": "commit",
         "rawType": "int64",
         "type": "integer"
        },
        {
         "name": "issue_created",
         "rawType": "int64",
         "type": "integer"
        }
       ],
       "conversionMethod": "pd.DataFrame",
       "ref": "762b23b7-5295-4c02-8ebb-9046491a6973",
       "rows": [
        [
         "\"Stephen Skory stephenskory@yahoo.com\"",
         "1",
         "0"
        ],
        [
         "(no author)",
         "2",
         "0"
        ],
        [
         "--quiet",
         "4",
         "0"
        ],
        [
         "004f9c6c-ac10-4a12-a367-dc45be16a4d0",
         "0",
         "1"
        ],
        [
         "0102db7c-e008-49db-81b0-d3eb9e7e355d",
         "0",
         "1"
        ],
        [
         "017dfe3e-cef2-4b91-ad1f-232b5e7b9d6f",
         "0",
         "3"
        ],
        [
         "01a948a1-238d-46b2-b3c4-278ae7d50247",
         "0",
         "3"
        ],
        [
         "01e340b9-26d1-43e0-a194-d9a8889e621b",
         "0",
         "1"
        ],
        [
         "01f5781a-be80-4f39-b75f-3542e9378080",
         "0",
         "8"
        ],
        [
         "0327930e-049f-43cc-8d1e-a5d2e39c697e",
         "0",
         "3"
        ],
        [
         "0365a2d1-30f5-431b-af6e-31a43e4d0c79",
         "0",
         "2"
        ],
        [
         "03c7c743-3cef-4fe2-9cf2-546cad07154c",
         "0",
         "2"
        ],
        [
         "0441804c-6a77-41bc-bd26-e4e91812dd00",
         "0",
         "1"
        ],
        [
         "05896d63-f8ed-4c7b-833d-0253580c1253",
         "0",
         "1"
        ],
        [
         "05ce13b8-2b94-42ea-bafe-e30d56c49324",
         "0",
         "1"
        ],
        [
         "060af9a2-72dc-49a4-bba7-5eb30cb82d9e",
         "0",
         "1"
        ],
        [
         "0696ee0e-d321-4676-b19e-a37806b3200e",
         "0",
         "9"
        ],
        [
         "06bbf81d-f646-4d20-904a-9cca4deefa37",
         "0",
         "3"
        ],
        [
         "06ed2e50-0fde-47ff-a42d-cb4dc0ae1c36",
         "0",
         "2"
        ],
        [
         "07773d35-e75e-45c9-9ddb-1ae443bbe8fe",
         "0",
         "4"
        ],
        [
         "07be4212-2e30-43d3-a5f8-1cb5e7f91fe9",
         "0",
         "1"
        ],
        [
         "07d7d8da-6ce3-4a85-a39b-e7fae2ec1063",
         "0",
         "1"
        ],
        [
         "086",
         "0",
         "1"
        ],
        [
         "08704e68-5de8-4d82-a5c7-5ccc78990484",
         "0",
         "1"
        ],
        [
         "0878e109-275a-40ee-a777-beb3551ad770",
         "0",
         "10"
        ],
        [
         "087a1043-4634-4ee8-ad42-b852c243fe15",
         "0",
         "3"
        ],
        [
         "093b5443-9739-408c-93ff-37bbaf9bb5a3",
         "0",
         "1"
        ],
        [
         "094568f8-9190-4a26-9109-e1ea921ca772",
         "0",
         "3"
        ],
        [
         "09ac5a22-6a87-4290-8c34-5c8dd760bfaf",
         "0",
         "12"
        ],
        [
         "09b1d729-77bf-490e-b469-c1103143400f",
         "0",
         "3"
        ],
        [
         "09ecb9b4-fb50-40a0-b124-2eaaca438240",
         "0",
         "2"
        ],
        [
         "09f30abf-fce1-4006-93c8-d62d422e20ec",
         "0",
         "1"
        ],
        [
         "0a4abc94-1dd1-4ad8-9026-8909fdd5b544",
         "0",
         "3"
        ],
        [
         "0a6bb88a-cdcb-47b5-ad00-d9f6a24d87c7",
         "0",
         "2"
        ],
        [
         "0a88e79c-2324-449d-a3ea-119d37967f62",
         "0",
         "2"
        ],
        [
         "0adfa02f-507d-46c6-aa3b-f2437a2a5873",
         "0",
         "10"
        ],
        [
         "0b0ba38c-1bfe-4d9b-93b5-765c271ab39f",
         "0",
         "2"
        ],
        [
         "0b22e3a0-a44c-4183-8dc2-75816a9f1079",
         "0",
         "7"
        ],
        [
         "0b513dec-a2c6-4213-85a1-cbfbd7b47106",
         "0",
         "1"
        ],
        [
         "0b86e19c-e8f2-424e-9d6d-4deef3512dcc",
         "0",
         "1"
        ],
        [
         "0befb2c9-79c8-4449-86c2-a598706f893f",
         "0",
         "2"
        ],
        [
         "0c236235-57d3-4b06-92a4-a47a4e1f8cd0",
         "0",
         "1"
        ],
        [
         "0c8495f6-7de6-4404-9bbc-dc5cb89eecd8",
         "0",
         "4"
        ],
        [
         "0cd069e4-2464-4c50-b1d3-d630b234f62d",
         "0",
         "1"
        ],
        [
         "0d90674f-05eb-4b9d-9cb6-7d583bd8b339",
         "0",
         "5"
        ],
        [
         "0d99f9c7-a6a1-45f2-aa31-8be54a3d66f1",
         "0",
         "1"
        ],
        [
         "0e34f4a7-9e98-4b57-9499-e9994a8a06e1",
         "0",
         "3"
        ],
        [
         "0e3709a9-cfd3-4b02-a46d-1a1aec21c805",
         "0",
         "4"
        ],
        [
         "0ee3082f-59ff-4c1e-ac37-b37697b7f221",
         "0",
         "2"
        ],
        [
         "0f5ae6f6-e03a-45d9-b571-4ce01615e676",
         "0",
         "30"
        ]
       ],
       "shape": {
        "columns": 2,
        "rows": 12171
       }
      },
      "text/html": [
       "<div>\n",
       "<style scoped>\n",
       "    .dataframe tbody tr th:only-of-type {\n",
       "        vertical-align: middle;\n",
       "    }\n",
       "\n",
       "    .dataframe tbody tr th {\n",
       "        vertical-align: top;\n",
       "    }\n",
       "\n",
       "    .dataframe thead th {\n",
       "        text-align: right;\n",
       "    }\n",
       "</style>\n",
       "<table border=\"1\" class=\"dataframe\">\n",
       "  <thead>\n",
       "    <tr style=\"text-align: right;\">\n",
       "      <th>event_type</th>\n",
       "      <th>commit</th>\n",
       "      <th>issue_created</th>\n",
       "    </tr>\n",
       "    <tr>\n",
       "      <th>contributor_name</th>\n",
       "      <th></th>\n",
       "      <th></th>\n",
       "    </tr>\n",
       "  </thead>\n",
       "  <tbody>\n",
       "    <tr>\n",
       "      <th>\"Stephen Skory stephenskory@yahoo.com\"</th>\n",
       "      <td>1</td>\n",
       "      <td>0</td>\n",
       "    </tr>\n",
       "    <tr>\n",
       "      <th>(no author)</th>\n",
       "      <td>2</td>\n",
       "      <td>0</td>\n",
       "    </tr>\n",
       "    <tr>\n",
       "      <th>--quiet</th>\n",
       "      <td>4</td>\n",
       "      <td>0</td>\n",
       "    </tr>\n",
       "    <tr>\n",
       "      <th>004f9c6c-ac10-4a12-a367-dc45be16a4d0</th>\n",
       "      <td>0</td>\n",
       "      <td>1</td>\n",
       "    </tr>\n",
       "    <tr>\n",
       "      <th>0102db7c-e008-49db-81b0-d3eb9e7e355d</th>\n",
       "      <td>0</td>\n",
       "      <td>1</td>\n",
       "    </tr>\n",
       "    <tr>\n",
       "      <th>...</th>\n",
       "      <td>...</td>\n",
       "      <td>...</td>\n",
       "    </tr>\n",
       "    <tr>\n",
       "      <th>Ärpit Merchant</th>\n",
       "      <td>1</td>\n",
       "      <td>0</td>\n",
       "    </tr>\n",
       "    <tr>\n",
       "      <th>Édouard Rousseau</th>\n",
       "      <td>6</td>\n",
       "      <td>0</td>\n",
       "    </tr>\n",
       "    <tr>\n",
       "      <th>Émile Nadeau</th>\n",
       "      <td>40</td>\n",
       "      <td>0</td>\n",
       "    </tr>\n",
       "    <tr>\n",
       "      <th>Štěpán Starosta</th>\n",
       "      <td>3</td>\n",
       "      <td>0</td>\n",
       "    </tr>\n",
       "    <tr>\n",
       "      <th>江添亮</th>\n",
       "      <td>1</td>\n",
       "      <td>0</td>\n",
       "    </tr>\n",
       "  </tbody>\n",
       "</table>\n",
       "<p>12171 rows × 2 columns</p>\n",
       "</div>"
      ],
      "text/plain": [
       "event_type                              commit  issue_created\n",
       "contributor_name                                             \n",
       "\"Stephen Skory stephenskory@yahoo.com\"       1              0\n",
       "(no author)                                  2              0\n",
       "--quiet                                      4              0\n",
       "004f9c6c-ac10-4a12-a367-dc45be16a4d0         0              1\n",
       "0102db7c-e008-49db-81b0-d3eb9e7e355d         0              1\n",
       "...                                        ...            ...\n",
       "Ärpit Merchant                               1              0\n",
       "Édouard Rousseau                             6              0\n",
       "Émile Nadeau                                40              0\n",
       "Štěpán Starosta                              3              0\n",
       "江添亮                                          1              0\n",
       "\n",
       "[12171 rows x 2 columns]"
      ]
     },
     "execution_count": 11,
     "metadata": {},
     "output_type": "execute_result"
    }
   ],
   "source": [
    "person_df.sort_values(by='contributor_name')"
   ]
  },
  {
   "cell_type": "code",
   "execution_count": 12,
   "id": "f128c414",
   "metadata": {},
   "outputs": [
    {
     "data": {
      "application/vnd.microsoft.datawrangler.viewer.v0+json": {
       "columns": [
        {
         "name": "contributor_name",
         "rawType": "object",
         "type": "string"
        },
        {
         "name": "commit",
         "rawType": "int64",
         "type": "integer"
        },
        {
         "name": "issue_created",
         "rawType": "int64",
         "type": "integer"
        },
        {
         "name": "total_actions",
         "rawType": "int64",
         "type": "integer"
        }
       ],
       "conversionMethod": "pd.DataFrame",
       "ref": "d568da15-f33c-4282-b1ab-4c5fc64ca45d",
       "rows": [
        [
         "\"Stephen Skory stephenskory@yahoo.com\"",
         "1",
         "0",
         "1"
        ],
        [
         "(no author)",
         "2",
         "0",
         "2"
        ],
        [
         "--quiet",
         "4",
         "0",
         "4"
        ],
        [
         "004f9c6c-ac10-4a12-a367-dc45be16a4d0",
         "0",
         "1",
         "1"
        ],
        [
         "0102db7c-e008-49db-81b0-d3eb9e7e355d",
         "0",
         "1",
         "1"
        ],
        [
         "017dfe3e-cef2-4b91-ad1f-232b5e7b9d6f",
         "0",
         "3",
         "3"
        ],
        [
         "01a948a1-238d-46b2-b3c4-278ae7d50247",
         "0",
         "3",
         "3"
        ],
        [
         "01e340b9-26d1-43e0-a194-d9a8889e621b",
         "0",
         "1",
         "1"
        ],
        [
         "01f5781a-be80-4f39-b75f-3542e9378080",
         "0",
         "8",
         "8"
        ],
        [
         "0327930e-049f-43cc-8d1e-a5d2e39c697e",
         "0",
         "3",
         "3"
        ],
        [
         "0365a2d1-30f5-431b-af6e-31a43e4d0c79",
         "0",
         "2",
         "2"
        ],
        [
         "03c7c743-3cef-4fe2-9cf2-546cad07154c",
         "0",
         "2",
         "2"
        ],
        [
         "0441804c-6a77-41bc-bd26-e4e91812dd00",
         "0",
         "1",
         "1"
        ],
        [
         "05896d63-f8ed-4c7b-833d-0253580c1253",
         "0",
         "1",
         "1"
        ],
        [
         "05ce13b8-2b94-42ea-bafe-e30d56c49324",
         "0",
         "1",
         "1"
        ],
        [
         "060af9a2-72dc-49a4-bba7-5eb30cb82d9e",
         "0",
         "1",
         "1"
        ],
        [
         "0696ee0e-d321-4676-b19e-a37806b3200e",
         "0",
         "9",
         "9"
        ],
        [
         "06bbf81d-f646-4d20-904a-9cca4deefa37",
         "0",
         "3",
         "3"
        ],
        [
         "06ed2e50-0fde-47ff-a42d-cb4dc0ae1c36",
         "0",
         "2",
         "2"
        ],
        [
         "07773d35-e75e-45c9-9ddb-1ae443bbe8fe",
         "0",
         "4",
         "4"
        ],
        [
         "07be4212-2e30-43d3-a5f8-1cb5e7f91fe9",
         "0",
         "1",
         "1"
        ],
        [
         "07d7d8da-6ce3-4a85-a39b-e7fae2ec1063",
         "0",
         "1",
         "1"
        ],
        [
         "086",
         "0",
         "1",
         "1"
        ],
        [
         "08704e68-5de8-4d82-a5c7-5ccc78990484",
         "0",
         "1",
         "1"
        ],
        [
         "0878e109-275a-40ee-a777-beb3551ad770",
         "0",
         "10",
         "10"
        ],
        [
         "087a1043-4634-4ee8-ad42-b852c243fe15",
         "0",
         "3",
         "3"
        ],
        [
         "093b5443-9739-408c-93ff-37bbaf9bb5a3",
         "0",
         "1",
         "1"
        ],
        [
         "094568f8-9190-4a26-9109-e1ea921ca772",
         "0",
         "3",
         "3"
        ],
        [
         "09ac5a22-6a87-4290-8c34-5c8dd760bfaf",
         "0",
         "12",
         "12"
        ],
        [
         "09b1d729-77bf-490e-b469-c1103143400f",
         "0",
         "3",
         "3"
        ],
        [
         "09ecb9b4-fb50-40a0-b124-2eaaca438240",
         "0",
         "2",
         "2"
        ],
        [
         "09f30abf-fce1-4006-93c8-d62d422e20ec",
         "0",
         "1",
         "1"
        ],
        [
         "0a4abc94-1dd1-4ad8-9026-8909fdd5b544",
         "0",
         "3",
         "3"
        ],
        [
         "0a6bb88a-cdcb-47b5-ad00-d9f6a24d87c7",
         "0",
         "2",
         "2"
        ],
        [
         "0a88e79c-2324-449d-a3ea-119d37967f62",
         "0",
         "2",
         "2"
        ],
        [
         "0adfa02f-507d-46c6-aa3b-f2437a2a5873",
         "0",
         "10",
         "10"
        ],
        [
         "0b0ba38c-1bfe-4d9b-93b5-765c271ab39f",
         "0",
         "2",
         "2"
        ],
        [
         "0b22e3a0-a44c-4183-8dc2-75816a9f1079",
         "0",
         "7",
         "7"
        ],
        [
         "0b513dec-a2c6-4213-85a1-cbfbd7b47106",
         "0",
         "1",
         "1"
        ],
        [
         "0b86e19c-e8f2-424e-9d6d-4deef3512dcc",
         "0",
         "1",
         "1"
        ],
        [
         "0befb2c9-79c8-4449-86c2-a598706f893f",
         "0",
         "2",
         "2"
        ],
        [
         "0c236235-57d3-4b06-92a4-a47a4e1f8cd0",
         "0",
         "1",
         "1"
        ],
        [
         "0c8495f6-7de6-4404-9bbc-dc5cb89eecd8",
         "0",
         "4",
         "4"
        ],
        [
         "0cd069e4-2464-4c50-b1d3-d630b234f62d",
         "0",
         "1",
         "1"
        ],
        [
         "0d90674f-05eb-4b9d-9cb6-7d583bd8b339",
         "0",
         "5",
         "5"
        ],
        [
         "0d99f9c7-a6a1-45f2-aa31-8be54a3d66f1",
         "0",
         "1",
         "1"
        ],
        [
         "0e34f4a7-9e98-4b57-9499-e9994a8a06e1",
         "0",
         "3",
         "3"
        ],
        [
         "0e3709a9-cfd3-4b02-a46d-1a1aec21c805",
         "0",
         "4",
         "4"
        ],
        [
         "0ee3082f-59ff-4c1e-ac37-b37697b7f221",
         "0",
         "2",
         "2"
        ],
        [
         "0f5ae6f6-e03a-45d9-b571-4ce01615e676",
         "0",
         "30",
         "30"
        ]
       ],
       "shape": {
        "columns": 3,
        "rows": 12171
       }
      },
      "text/html": [
       "<div>\n",
       "<style scoped>\n",
       "    .dataframe tbody tr th:only-of-type {\n",
       "        vertical-align: middle;\n",
       "    }\n",
       "\n",
       "    .dataframe tbody tr th {\n",
       "        vertical-align: top;\n",
       "    }\n",
       "\n",
       "    .dataframe thead th {\n",
       "        text-align: right;\n",
       "    }\n",
       "</style>\n",
       "<table border=\"1\" class=\"dataframe\">\n",
       "  <thead>\n",
       "    <tr style=\"text-align: right;\">\n",
       "      <th>event_type</th>\n",
       "      <th>commit</th>\n",
       "      <th>issue_created</th>\n",
       "      <th>total_actions</th>\n",
       "    </tr>\n",
       "    <tr>\n",
       "      <th>contributor_name</th>\n",
       "      <th></th>\n",
       "      <th></th>\n",
       "      <th></th>\n",
       "    </tr>\n",
       "  </thead>\n",
       "  <tbody>\n",
       "    <tr>\n",
       "      <th>\"Stephen Skory stephenskory@yahoo.com\"</th>\n",
       "      <td>1</td>\n",
       "      <td>0</td>\n",
       "      <td>1</td>\n",
       "    </tr>\n",
       "    <tr>\n",
       "      <th>(no author)</th>\n",
       "      <td>2</td>\n",
       "      <td>0</td>\n",
       "      <td>2</td>\n",
       "    </tr>\n",
       "    <tr>\n",
       "      <th>--quiet</th>\n",
       "      <td>4</td>\n",
       "      <td>0</td>\n",
       "      <td>4</td>\n",
       "    </tr>\n",
       "    <tr>\n",
       "      <th>004f9c6c-ac10-4a12-a367-dc45be16a4d0</th>\n",
       "      <td>0</td>\n",
       "      <td>1</td>\n",
       "      <td>1</td>\n",
       "    </tr>\n",
       "    <tr>\n",
       "      <th>0102db7c-e008-49db-81b0-d3eb9e7e355d</th>\n",
       "      <td>0</td>\n",
       "      <td>1</td>\n",
       "      <td>1</td>\n",
       "    </tr>\n",
       "    <tr>\n",
       "      <th>...</th>\n",
       "      <td>...</td>\n",
       "      <td>...</td>\n",
       "      <td>...</td>\n",
       "    </tr>\n",
       "    <tr>\n",
       "      <th>Ärpit Merchant</th>\n",
       "      <td>1</td>\n",
       "      <td>0</td>\n",
       "      <td>1</td>\n",
       "    </tr>\n",
       "    <tr>\n",
       "      <th>Édouard Rousseau</th>\n",
       "      <td>6</td>\n",
       "      <td>0</td>\n",
       "      <td>6</td>\n",
       "    </tr>\n",
       "    <tr>\n",
       "      <th>Émile Nadeau</th>\n",
       "      <td>40</td>\n",
       "      <td>0</td>\n",
       "      <td>40</td>\n",
       "    </tr>\n",
       "    <tr>\n",
       "      <th>Štěpán Starosta</th>\n",
       "      <td>3</td>\n",
       "      <td>0</td>\n",
       "      <td>3</td>\n",
       "    </tr>\n",
       "    <tr>\n",
       "      <th>江添亮</th>\n",
       "      <td>1</td>\n",
       "      <td>0</td>\n",
       "      <td>1</td>\n",
       "    </tr>\n",
       "  </tbody>\n",
       "</table>\n",
       "<p>12171 rows × 3 columns</p>\n",
       "</div>"
      ],
      "text/plain": [
       "event_type                              commit  issue_created  total_actions\n",
       "contributor_name                                                            \n",
       "\"Stephen Skory stephenskory@yahoo.com\"       1              0              1\n",
       "(no author)                                  2              0              2\n",
       "--quiet                                      4              0              4\n",
       "004f9c6c-ac10-4a12-a367-dc45be16a4d0         0              1              1\n",
       "0102db7c-e008-49db-81b0-d3eb9e7e355d         0              1              1\n",
       "...                                        ...            ...            ...\n",
       "Ärpit Merchant                               1              0              1\n",
       "Édouard Rousseau                             6              0              6\n",
       "Émile Nadeau                                40              0             40\n",
       "Štěpán Starosta                              3              0              3\n",
       "江添亮                                          1              0              1\n",
       "\n",
       "[12171 rows x 3 columns]"
      ]
     },
     "execution_count": 12,
     "metadata": {},
     "output_type": "execute_result"
    }
   ],
   "source": [
    "person_df['total_actions'] = person_df['commit'] + person_df['issue_created']\n",
    "person_df"
   ]
  },
  {
   "cell_type": "code",
   "execution_count": 13,
   "id": "10a09e40",
   "metadata": {},
   "outputs": [
    {
     "data": {
      "text/plain": [
       "<Axes: xlabel='commit', ylabel='issue_created'>"
      ]
     },
     "execution_count": 13,
     "metadata": {},
     "output_type": "execute_result"
    },
    {
     "data": {
      "image/png": "[encoded data removed]",
      "text/plain": [
       "<Figure size 640x480 with 1 Axes>"
      ]
     },
     "metadata": {},
     "output_type": "display_data"
    }
   ],
   "source": [
    "sns.scatterplot(data=person_df, x='commit', y='issue_created', hue='total_actions', palette='coolwarm', size='total_actions', sizes=(20, 200), alpha=0.7)"
   ]
  },
  {
   "cell_type": "markdown",
   "id": "f54efad4",
   "metadata": {},
   "source": [
    "### How about for the top 50 total contributors?"
   ]
  },
  {
   "cell_type": "code",
   "execution_count": 14,
   "id": "fcec2231",
   "metadata": {},
   "outputs": [
    {
     "data": {
      "application/vnd.microsoft.datawrangler.viewer.v0+json": {
       "columns": [
        {
         "name": "index",
         "rawType": "object",
         "type": "string"
        },
        {
         "name": "commit",
         "rawType": "float64",
         "type": "float"
        },
        {
         "name": "issue_created",
         "rawType": "float64",
         "type": "float"
        },
        {
         "name": "total_actions",
         "rawType": "float64",
         "type": "float"
        }
       ],
       "conversionMethod": "pd.DataFrame",
       "ref": "593184f5-10d3-42cc-8d81-a1efcc982ed2",
       "rows": [
        [
         "count",
         "50.0",
         "50.0",
         "50.0"
        ],
        [
         "mean",
         "6310.98",
         "8.52",
         "6319.5"
        ],
        [
         "std",
         "4901.654982862462",
         "42.20853961376217",
         "4897.177755543264"
        ],
        [
         "min",
         "3154.0",
         "0.0",
         "3154.0"
        ],
        [
         "25%",
         "3892.0",
         "0.0",
         "3892.0"
        ],
        [
         "50%",
         "5000.5",
         "0.0",
         "5000.5"
        ],
        [
         "75%",
         "6561.75",
         "0.0",
         "6561.75"
        ],
        [
         "max",
         "31725.0",
         "230.0",
         "31725.0"
        ]
       ],
       "shape": {
        "columns": 3,
        "rows": 8
       }
      },
      "text/html": [
       "<div>\n",
       "<style scoped>\n",
       "    .dataframe tbody tr th:only-of-type {\n",
       "        vertical-align: middle;\n",
       "    }\n",
       "\n",
       "    .dataframe tbody tr th {\n",
       "        vertical-align: top;\n",
       "    }\n",
       "\n",
       "    .dataframe thead th {\n",
       "        text-align: right;\n",
       "    }\n",
       "</style>\n",
       "<table border=\"1\" class=\"dataframe\">\n",
       "  <thead>\n",
       "    <tr style=\"text-align: right;\">\n",
       "      <th>event_type</th>\n",
       "      <th>commit</th>\n",
       "      <th>issue_created</th>\n",
       "      <th>total_actions</th>\n",
       "    </tr>\n",
       "  </thead>\n",
       "  <tbody>\n",
       "    <tr>\n",
       "      <th>count</th>\n",
       "      <td>50.000000</td>\n",
       "      <td>50.00000</td>\n",
       "      <td>50.000000</td>\n",
       "    </tr>\n",
       "    <tr>\n",
       "      <th>mean</th>\n",
       "      <td>6310.980000</td>\n",
       "      <td>8.52000</td>\n",
       "      <td>6319.500000</td>\n",
       "    </tr>\n",
       "    <tr>\n",
       "      <th>std</th>\n",
       "      <td>4901.654983</td>\n",
       "      <td>42.20854</td>\n",
       "      <td>4897.177756</td>\n",
       "    </tr>\n",
       "    <tr>\n",
       "      <th>min</th>\n",
       "      <td>3154.000000</td>\n",
       "      <td>0.00000</td>\n",
       "      <td>3154.000000</td>\n",
       "    </tr>\n",
       "    <tr>\n",
       "      <th>25%</th>\n",
       "      <td>3892.000000</td>\n",
       "      <td>0.00000</td>\n",
       "      <td>3892.000000</td>\n",
       "    </tr>\n",
       "    <tr>\n",
       "      <th>50%</th>\n",
       "      <td>5000.500000</td>\n",
       "      <td>0.00000</td>\n",
       "      <td>5000.500000</td>\n",
       "    </tr>\n",
       "    <tr>\n",
       "      <th>75%</th>\n",
       "      <td>6561.750000</td>\n",
       "      <td>0.00000</td>\n",
       "      <td>6561.750000</td>\n",
       "    </tr>\n",
       "    <tr>\n",
       "      <th>max</th>\n",
       "      <td>31725.000000</td>\n",
       "      <td>230.00000</td>\n",
       "      <td>31725.000000</td>\n",
       "    </tr>\n",
       "  </tbody>\n",
       "</table>\n",
       "</div>"
      ],
      "text/plain": [
       "event_type        commit  issue_created  total_actions\n",
       "count          50.000000       50.00000      50.000000\n",
       "mean         6310.980000        8.52000    6319.500000\n",
       "std          4901.654983       42.20854    4897.177756\n",
       "min          3154.000000        0.00000    3154.000000\n",
       "25%          3892.000000        0.00000    3892.000000\n",
       "50%          5000.500000        0.00000    5000.500000\n",
       "75%          6561.750000        0.00000    6561.750000\n",
       "max         31725.000000      230.00000   31725.000000"
      ]
     },
     "execution_count": 14,
     "metadata": {},
     "output_type": "execute_result"
    }
   ],
   "source": [
    "top50_df = person_df.sort_values(by='total_actions', ascending=False)[:50]\n",
    "top50_df.describe()"
   ]
  },
  {
   "cell_type": "code",
   "execution_count": 15,
   "id": "910f1b6b",
   "metadata": {},
   "outputs": [
    {
     "data": {
      "text/plain": [
       "<Axes: xlabel='commit', ylabel='issue_created'>"
      ]
     },
     "execution_count": 15,
     "metadata": {},
     "output_type": "execute_result"
    },
    {
     "data": {
      "image/png": "[encoded data removed]",
      "text/plain": [
       "<Figure size 640x480 with 1 Axes>"
      ]
     },
     "metadata": {},
     "output_type": "display_data"
    }
   ],
   "source": [
    "sns.scatterplot(data=top50_df, x='commit', y='issue_created', hue='total_actions', palette='coolwarm', size='total_actions', sizes=(20, 200), alpha=0.7)"
   ]
  },
  {
   "cell_type": "markdown",
   "id": "f53396ab",
   "metadata": {},
   "source": [
    "## Do people who raise issues like to commit? Using top 100"
   ]
  },
  {
   "cell_type": "code",
   "execution_count": 16,
   "id": "9709bd90",
   "metadata": {},
   "outputs": [
    {
     "data": {
      "application/vnd.microsoft.datawrangler.viewer.v0+json": {
       "columns": [
        {
         "name": "index",
         "rawType": "object",
         "type": "string"
        },
        {
         "name": "commit",
         "rawType": "float64",
         "type": "float"
        },
        {
         "name": "issue_created",
         "rawType": "float64",
         "type": "float"
        },
        {
         "name": "total_actions",
         "rawType": "float64",
         "type": "float"
        }
       ],
       "conversionMethod": "pd.DataFrame",
       "ref": "4c168803-9a43-456b-b005-08fdd1a2b7b9",
       "rows": [
        [
         "count",
         "100.0",
         "100.0",
         "100.0"
        ],
        [
         "mean",
         "108.52",
         "386.81",
         "495.33"
        ],
        [
         "std",
         "541.1668926094478",
         "429.93489511832365",
         "665.2854639820853"
        ],
        [
         "min",
         "0.0",
         "130.0",
         "130.0"
        ],
        [
         "25%",
         "0.0",
         "170.5",
         "173.5"
        ],
        [
         "50%",
         "0.0",
         "230.5",
         "259.5"
        ],
        [
         "75%",
         "1.0",
         "431.25",
         "499.0"
        ],
        [
         "max",
         "4273.0",
         "2451.0",
         "4468.0"
        ]
       ],
       "shape": {
        "columns": 3,
        "rows": 8
       }
      },
      "text/html": [
       "<div>\n",
       "<style scoped>\n",
       "    .dataframe tbody tr th:only-of-type {\n",
       "        vertical-align: middle;\n",
       "    }\n",
       "\n",
       "    .dataframe tbody tr th {\n",
       "        vertical-align: top;\n",
       "    }\n",
       "\n",
       "    .dataframe thead th {\n",
       "        text-align: right;\n",
       "    }\n",
       "</style>\n",
       "<table border=\"1\" class=\"dataframe\">\n",
       "  <thead>\n",
       "    <tr style=\"text-align: right;\">\n",
       "      <th>event_type</th>\n",
       "      <th>commit</th>\n",
       "      <th>issue_created</th>\n",
       "      <th>total_actions</th>\n",
       "    </tr>\n",
       "  </thead>\n",
       "  <tbody>\n",
       "    <tr>\n",
       "      <th>count</th>\n",
       "      <td>100.000000</td>\n",
       "      <td>100.000000</td>\n",
       "      <td>100.000000</td>\n",
       "    </tr>\n",
       "    <tr>\n",
       "      <th>mean</th>\n",
       "      <td>108.520000</td>\n",
       "      <td>386.810000</td>\n",
       "      <td>495.330000</td>\n",
       "    </tr>\n",
       "    <tr>\n",
       "      <th>std</th>\n",
       "      <td>541.166893</td>\n",
       "      <td>429.934895</td>\n",
       "      <td>665.285464</td>\n",
       "    </tr>\n",
       "    <tr>\n",
       "      <th>min</th>\n",
       "      <td>0.000000</td>\n",
       "      <td>130.000000</td>\n",
       "      <td>130.000000</td>\n",
       "    </tr>\n",
       "    <tr>\n",
       "      <th>25%</th>\n",
       "      <td>0.000000</td>\n",
       "      <td>170.500000</td>\n",
       "      <td>173.500000</td>\n",
       "    </tr>\n",
       "    <tr>\n",
       "      <th>50%</th>\n",
       "      <td>0.000000</td>\n",
       "      <td>230.500000</td>\n",
       "      <td>259.500000</td>\n",
       "    </tr>\n",
       "    <tr>\n",
       "      <th>75%</th>\n",
       "      <td>1.000000</td>\n",
       "      <td>431.250000</td>\n",
       "      <td>499.000000</td>\n",
       "    </tr>\n",
       "    <tr>\n",
       "      <th>max</th>\n",
       "      <td>4273.000000</td>\n",
       "      <td>2451.000000</td>\n",
       "      <td>4468.000000</td>\n",
       "    </tr>\n",
       "  </tbody>\n",
       "</table>\n",
       "</div>"
      ],
      "text/plain": [
       "event_type       commit  issue_created  total_actions\n",
       "count        100.000000     100.000000     100.000000\n",
       "mean         108.520000     386.810000     495.330000\n",
       "std          541.166893     429.934895     665.285464\n",
       "min            0.000000     130.000000     130.000000\n",
       "25%            0.000000     170.500000     173.500000\n",
       "50%            0.000000     230.500000     259.500000\n",
       "75%            1.000000     431.250000     499.000000\n",
       "max         4273.000000    2451.000000    4468.000000"
      ]
     },
     "execution_count": 16,
     "metadata": {},
     "output_type": "execute_result"
    }
   ],
   "source": [
    "issue100_df = person_df.sort_values(by='issue_created', ascending=False)[:100]\n",
    "issue100_df.describe()"
   ]
  },
  {
   "cell_type": "code",
   "execution_count": 17,
   "id": "ecbb5e0f",
   "metadata": {},
   "outputs": [
    {
     "data": {
      "text/plain": [
       "<Axes: xlabel='issue_created', ylabel='commit'>"
      ]
     },
     "execution_count": 17,
     "metadata": {},
     "output_type": "execute_result"
    },
    {
     "data": {
      "image/png": "[encoded data removed]",
      "text/plain": [
       "<Figure size 640x480 with 1 Axes>"
      ]
     },
     "metadata": {},
     "output_type": "display_data"
    }
   ],
   "source": [
    "sns.scatterplot(data=issue100_df, y='commit', x='issue_created', hue='issue_created', palette='coolwarm', size='issue_created', sizes=(20, 200), alpha=0.7)"
   ]
  },
  {
   "cell_type": "markdown",
   "id": "cd9b676c",
   "metadata": {},
   "source": [
    "### Generally, the people who raise issues don't really commit"
   ]
  },
  {
   "cell_type": "markdown",
   "id": "c754794c",
   "metadata": {},
   "source": [
    "Take all guys within the 25th to 75th percentile, and graph their issues vs commits"
   ]
  },
  {
   "cell_type": "code",
   "execution_count": 18,
   "id": "878e0265",
   "metadata": {},
   "outputs": [
    {
     "data": {
      "text/plain": [
       "<Axes: ylabel='commit'>"
      ]
     },
     "execution_count": 18,
     "metadata": {},
     "output_type": "execute_result"
    },
    {
     "data": {
      "image/png": "[encoded data removed]",
      "text/plain": [
       "<Figure size 640x480 with 1 Axes>"
      ]
     },
     "metadata": {},
     "output_type": "display_data"
    }
   ],
   "source": [
    "sns.violinplot(data=top50_df['commit'])"
   ]
  },
  {
   "cell_type": "code",
   "execution_count": 19,
   "id": "826c40e4",
   "metadata": {},
   "outputs": [
    {
     "data": {
      "text/plain": [
       "<Axes: ylabel='issue_created'>"
      ]
     },
     "execution_count": 19,
     "metadata": {},
     "output_type": "execute_result"
    },
    {
     "data": {
      "image/png": "[encoded data removed]",
      "text/plain": [
       "<Figure size 640x480 with 1 Axes>"
      ]
     },
     "metadata": {},
     "output_type": "display_data"
    }
   ],
   "source": [
    "sns.violinplot(data=issue100_df['issue_created'])"
   ]
  },
  {
   "cell_type": "code",
   "execution_count": 20,
   "id": "70fc304e",
   "metadata": {},
   "outputs": [],
   "source": [
    "top_contributors = person_df[(person_df['commit'] >= 50) & (person_df['issue_created'] >= 50)]"
   ]
  },
  {
   "cell_type": "markdown",
   "id": "cc175810",
   "metadata": {},
   "source": [
    "There are only 14 people who committed > 100 times and created > 100 issues. 29 Who do 50 or more of each."
   ]
  },
  {
   "cell_type": "markdown",
   "id": "125a4972",
   "metadata": {},
   "source": [
    "## What repositories are these people commiting & creating issues for?"
   ]
  },
  {
   "cell_type": "code",
   "execution_count": 21,
   "id": "e2303c2b",
   "metadata": {},
   "outputs": [],
   "source": [
    "top_contributors.reset_index(inplace=True)"
   ]
  },
  {
   "cell_type": "code",
   "execution_count": 22,
   "id": "9393e0d1",
   "metadata": {},
   "outputs": [],
   "source": [
    "names = top_contributors['contributor_name'].to_list()"
   ]
  },
  {
   "cell_type": "code",
   "execution_count": null,
   "id": "04f068da",
   "metadata": {},
   "outputs": [],
   "source": []
  }
 ],
 "metadata": {
  "kernelspec": {
   "display_name": "Python 3",
   "language": "python",
   "name": "python3"
  },
  "language_info": {
   "codemirror_mode": {
    "name": "ipython",
    "version": 3
   },
   "file_extension": ".py",
   "mimetype": "text/x-python",
   "name": "python",
   "nbconvert_exporter": "python",
   "pygments_lexer": "ipython3",
   "version": "3.12.1"
  }
 },
 "nbformat": 4,
 "nbformat_minor": 5
}
